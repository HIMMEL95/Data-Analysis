{
 "metadata": {
  "language_info": {
   "codemirror_mode": {
    "name": "ipython",
    "version": 3
   },
   "file_extension": ".py",
   "mimetype": "text/x-python",
   "name": "python",
   "nbconvert_exporter": "python",
   "pygments_lexer": "ipython3",
   "version": "3.6.9-final"
  },
  "orig_nbformat": 2,
  "kernelspec": {
   "name": "python3",
   "display_name": "Python 3",
   "language": "python"
  }
 },
 "nbformat": 4,
 "nbformat_minor": 2,
 "cells": [
  {
   "cell_type": "code",
   "execution_count": 11,
   "metadata": {},
   "outputs": [],
   "source": [
    "# Numpy에 대한 자세한 설명은 https://www.numpy.org/ "
   ]
  },
  {
   "cell_type": "code",
   "execution_count": 3,
   "metadata": {},
   "outputs": [
    {
     "output_type": "stream",
     "name": "stdout",
     "text": [
      "[[ 0  1  2  3  4]\n [ 5  6  7  8  9]\n [10 11 12 13 14]]\n"
     ]
    }
   ],
   "source": [
    "import numpy as np\n",
    "\n",
    "arr1 = np.arange(15).reshape(3,5)\n",
    "print(arr1)"
   ]
  },
  {
   "cell_type": "code",
   "execution_count": 4,
   "metadata": {},
   "outputs": [
    {
     "output_type": "execute_result",
     "data": {
      "text/plain": [
       "(3, 5)"
      ]
     },
     "metadata": {},
     "execution_count": 4
    }
   ],
   "source": [
    "# 배열의 형태 출력\n",
    "arr1.shape"
   ]
  },
  {
   "cell_type": "code",
   "execution_count": 5,
   "metadata": {},
   "outputs": [
    {
     "output_type": "execute_result",
     "data": {
      "text/plain": [
       "dtype('int64')"
      ]
     },
     "metadata": {},
     "execution_count": 5
    }
   ],
   "source": [
    "# 배열 형식 출력\n",
    "arr1.dtype"
   ]
  },
  {
   "cell_type": "code",
   "execution_count": 6,
   "metadata": {},
   "outputs": [
    {
     "output_type": "stream",
     "name": "stdout",
     "text": [
      "[6 7 8]\n"
     ]
    }
   ],
   "source": [
    "arr2 = np.array([6, 7, 8])\n",
    "print(arr2)"
   ]
  },
  {
   "cell_type": "code",
   "execution_count": 7,
   "metadata": {},
   "outputs": [
    {
     "output_type": "stream",
     "name": "stdout",
     "text": [
      "[[ 0.  0.  0.  0.]\n [ 0.  0.  0.  0.]\n [ 0.  0.  0.  0.]]\n"
     ]
    }
   ],
   "source": [
    "# 0으로 구성된 배열 생성\n",
    "arr3 = np.zeros((3,4))\n",
    "print(arr3)"
   ]
  },
  {
   "cell_type": "code",
   "execution_count": 10,
   "metadata": {},
   "outputs": [
    {
     "output_type": "stream",
     "name": "stdout",
     "text": [
      "arr4 + arr5 = \n[[  8.  10.  12.]\n [ 14.  16.  18.]] \n\narr4 - arr5 = \n[[-6. -6. -6.]\n [-6. -6. -6.]] \n\narr4 * arr5 = \n[[  7.  16.  27.]\n [ 40.  55.  72.]] \n\narr4 / arr5 = \n[[ 0.14285714  0.25        0.33333333]\n [ 0.4         0.45454545  0.5       ]] \n\n"
     ]
    }
   ],
   "source": [
    "# 배열의 사칙연산 \n",
    "arr4 = np.array([\n",
    "    [1,2,3],\n",
    "    [4,5,6]\n",
    "], dtype = np.float64)\n",
    "\n",
    "arr5 = np.array([\n",
    "    [7,8,9],\n",
    "    [10,11,12]\n",
    "], dtype=np.float64)\n",
    "\n",
    "print('arr4 + arr5 = ')\n",
    "print(arr4 + arr5, '\\n')\n",
    "print('arr4 - arr5 = ')\n",
    "print(arr4 - arr5, '\\n')\n",
    "print('arr4 * arr5 = ')\n",
    "print(arr4 * arr5, '\\n')\n",
    "print('arr4 / arr5 = ')\n",
    "print(arr4 / arr5, '\\n')"
   ]
  }
 ]
}