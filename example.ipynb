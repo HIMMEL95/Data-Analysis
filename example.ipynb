{
 "metadata": {
  "language_info": {
   "codemirror_mode": {
    "name": "ipython",
    "version": 3
   },
   "file_extension": ".py",
   "mimetype": "text/x-python",
   "name": "python",
   "nbconvert_exporter": "python",
   "pygments_lexer": "ipython3",
   "version": "3.6.9-final"
  },
  "orig_nbformat": 2,
  "kernelspec": {
   "name": "python3",
   "display_name": "Python 3",
   "language": "python"
  }
 },
 "nbformat": 4,
 "nbformat_minor": 2,
 "cells": [
  {
   "source": [
    "# 야구 선수들의 타율 계산법 "
   ],
   "cell_type": "markdown",
   "metadata": {}
  },
  {
   "cell_type": "code",
   "execution_count": 2,
   "metadata": {},
   "outputs": [
    {
     "output_type": "stream",
     "name": "stdout",
     "text": [
      "1 최형우 KIA 0.354\n2 손아섭 롯데 0.352\n3 로하스 KT 0.349\n4 박민우 NC 0.345\n5 페르난데스 두산 0.340\n6 이정후 키움 0.333\n7 허경민 두산 0.332\n8 김현수 LG 0.331\n9 강백호 KT 0.330\n10 양의지 NC 0.328\n11 나성범 NC 0.324\n12 황재균 KT 0.312\n13 김동엽 삼성 0.312\n14 오재일 두산 0.312\n15 구자욱 삼성 0.307\n16 최주환 두산 0.306\n17 터커 KIA 0.306\n18 박석민 NC 0.306\n19 이명기 NC 0.306\n20 김하성 키움 0.306\n21 김상수 삼성 0.304\n22 박건우 두산 0.304\n23 오지환 LG 0.300\n24 정수빈 두산 0.298\n25 조용호 KT 0.296\n26 정훈 롯데 0.295\n27 채은성 LG 0.293\n28 이대호 롯데 0.292\n29 나지완 KIA 0.291\n30 박해민 삼성 0.290\n"
     ]
    }
   ],
   "source": [
    "import pandas as pd\n",
    "import requests\n",
    "from bs4 import BeautifulSoup\n",
    "import re\n",
    "\n",
    "base_url = \"https://www.koreabaseball.com/Record/Player/HitterBasic/Basic1.aspx\"\n",
    "\n",
    "req = requests.get(base_url)\n",
    "html = req.content\n",
    "soup = BeautifulSoup(html, 'lxml')\n",
    "content_table = soup.find(\"table\")\n",
    "table_body = content_table.find('tbody')\n",
    "table_row = table_body.find_all('tr')\n",
    "player_reseult = []\n",
    "\n",
    "for a in range(len(table_row)):\n",
    "    player_reseult.append(table_row[a].text.split('\\n'))\n",
    "\n",
    "for i in range(len(table_row)):\n",
    "    hitting_average = int(player_reseult[i][9]) / int(player_reseult[i][7])\n",
    "    print(i+1,player_reseult[i][2], player_reseult[i][3], \"%.3f\" %hitting_average)\n",
    "    #print(\"선수 이름 : \", player_reseult[i][2], \"\\n팀 이름 : \", player_reseult[i][3], \"\\n타율 : \", \"%.3f\" %hitting_average, '\\n')\n",
    "#print(table_row[0].text.split('\\n'))"
   ]
  },
  {
   "source": [],
   "cell_type": "markdown",
   "metadata": {}
  },
  {
   "source": [
    "# 타자의 정보"
   ],
   "cell_type": "markdown",
   "metadata": {}
  },
  {
   "cell_type": "code",
   "execution_count": 16,
   "metadata": {
    "tags": []
   },
   "outputs": [],
   "source": [
    "import numpy as np\n",
    "import pandas as pd\n",
    "from pandas import Series, DataFrame\n",
    "import requests\n",
    "from bs4 import BeautifulSoup\n",
    "import re\n",
    "\n",
    "base_url = \"https://www.koreabaseball.com/Record/Player/HitterBasic/Basic1.aspx\"\n",
    "\n",
    "req = requests.get(base_url)\n",
    "html = req.content\n",
    "soup = BeautifulSoup(html, 'lxml')\n",
    "content_table = soup.find(\"table\")\n",
    "table_body = content_table.find('tbody')\n",
    "table_row = table_body.find_all('tr')\n",
    "player_name = []\n",
    "hitting = []\n",
    "at_bat =[]\n",
    "hitting_avr = []\n",
    "player_result = []\n",
    "\n",
    "for a in range(len(table_row)):\n",
    "    player_result.append(table_row[a].text.split('\\n'))\n",
    "\n",
    "for i in range(len(table_row)):\n",
    "    hitting_average = int(player_result[i][9]) / int(player_result[i][7])\n",
    "    player_name.append(player_result[i][2])\n",
    "    hitting.append(player_result[i][7])\n",
    "    at_bat.append(player_result[i][9])\n",
    "    hitting_avr.append(\"%.3f\" %hitting_average)\n",
    "\n",
    "result= {'Player_name' : player_name,\n",
    "         'Hitting' : hitting,\n",
    "         'At_bat' : at_bat, \n",
    "         'Hitting_avr' : hitting_avr}\n",
    "player_records = pd.DataFrame(result)\n",
    "player_records.to_csv(\"Player_records.csv\", encoding = 'utf-8', index=False)\n"
   ]
  },
  {
   "cell_type": "code",
   "execution_count": 126,
   "metadata": {},
   "outputs": [
    {
     "output_type": "execute_result",
     "data": {
      "text/plain": [
       "   Player_name  Hitting  At_bat  Hitting_avr\n",
       "0          최형우      522     185        0.354\n",
       "1          손아섭      540     190        0.352\n",
       "2          로하스      550     192        0.349\n",
       "3          박민우      467     161        0.345\n",
       "4        페르난데스      586     199        0.340\n",
       "5          이정후      544     181        0.333\n",
       "6          허경민      437     145        0.332\n",
       "7          김현수      547     181        0.331\n",
       "8          강백호      500     165        0.330\n",
       "9          양의지      461     151        0.328\n",
       "10         나성범      525     170        0.324\n",
       "11         황재균      541     169        0.312\n",
       "12         김동엽      413     129        0.312\n",
       "13         오재일      471     147        0.312\n",
       "14         구자욱      446     137        0.307\n",
       "15         최주환      509     156        0.306\n",
       "16          터커      542     166        0.306\n",
       "17         박석민      356     109        0.306\n",
       "18         이명기      477     146        0.306\n",
       "19         김하성      533     163        0.306\n",
       "20         김상수      404     123        0.304\n",
       "21         박건우      487     148        0.304\n",
       "22         오지환      527     158        0.300\n",
       "23         정수빈      490     146        0.298\n",
       "24         조용호      409     121        0.296\n",
       "25          정훈      410     121        0.295\n",
       "26         채은성      416     122        0.293\n",
       "27         이대호      542     158        0.292\n",
       "28         나지완      468     136        0.291\n",
       "29         박해민      489     142        0.290"
      ],
      "text/html": "<div>\n<style scoped>\n    .dataframe tbody tr th:only-of-type {\n        vertical-align: middle;\n    }\n\n    .dataframe tbody tr th {\n        vertical-align: top;\n    }\n\n    .dataframe thead th {\n        text-align: right;\n    }\n</style>\n<table border=\"1\" class=\"dataframe\">\n  <thead>\n    <tr style=\"text-align: right;\">\n      <th></th>\n      <th>Player_name</th>\n      <th>Hitting</th>\n      <th>At_bat</th>\n      <th>Hitting_avr</th>\n    </tr>\n  </thead>\n  <tbody>\n    <tr>\n      <th>0</th>\n      <td>최형우</td>\n      <td>522</td>\n      <td>185</td>\n      <td>0.354</td>\n    </tr>\n    <tr>\n      <th>1</th>\n      <td>손아섭</td>\n      <td>540</td>\n      <td>190</td>\n      <td>0.352</td>\n    </tr>\n    <tr>\n      <th>2</th>\n      <td>로하스</td>\n      <td>550</td>\n      <td>192</td>\n      <td>0.349</td>\n    </tr>\n    <tr>\n      <th>3</th>\n      <td>박민우</td>\n      <td>467</td>\n      <td>161</td>\n      <td>0.345</td>\n    </tr>\n    <tr>\n      <th>4</th>\n      <td>페르난데스</td>\n      <td>586</td>\n      <td>199</td>\n      <td>0.340</td>\n    </tr>\n    <tr>\n      <th>5</th>\n      <td>이정후</td>\n      <td>544</td>\n      <td>181</td>\n      <td>0.333</td>\n    </tr>\n    <tr>\n      <th>6</th>\n      <td>허경민</td>\n      <td>437</td>\n      <td>145</td>\n      <td>0.332</td>\n    </tr>\n    <tr>\n      <th>7</th>\n      <td>김현수</td>\n      <td>547</td>\n      <td>181</td>\n      <td>0.331</td>\n    </tr>\n    <tr>\n      <th>8</th>\n      <td>강백호</td>\n      <td>500</td>\n      <td>165</td>\n      <td>0.330</td>\n    </tr>\n    <tr>\n      <th>9</th>\n      <td>양의지</td>\n      <td>461</td>\n      <td>151</td>\n      <td>0.328</td>\n    </tr>\n    <tr>\n      <th>10</th>\n      <td>나성범</td>\n      <td>525</td>\n      <td>170</td>\n      <td>0.324</td>\n    </tr>\n    <tr>\n      <th>11</th>\n      <td>황재균</td>\n      <td>541</td>\n      <td>169</td>\n      <td>0.312</td>\n    </tr>\n    <tr>\n      <th>12</th>\n      <td>김동엽</td>\n      <td>413</td>\n      <td>129</td>\n      <td>0.312</td>\n    </tr>\n    <tr>\n      <th>13</th>\n      <td>오재일</td>\n      <td>471</td>\n      <td>147</td>\n      <td>0.312</td>\n    </tr>\n    <tr>\n      <th>14</th>\n      <td>구자욱</td>\n      <td>446</td>\n      <td>137</td>\n      <td>0.307</td>\n    </tr>\n    <tr>\n      <th>15</th>\n      <td>최주환</td>\n      <td>509</td>\n      <td>156</td>\n      <td>0.306</td>\n    </tr>\n    <tr>\n      <th>16</th>\n      <td>터커</td>\n      <td>542</td>\n      <td>166</td>\n      <td>0.306</td>\n    </tr>\n    <tr>\n      <th>17</th>\n      <td>박석민</td>\n      <td>356</td>\n      <td>109</td>\n      <td>0.306</td>\n    </tr>\n    <tr>\n      <th>18</th>\n      <td>이명기</td>\n      <td>477</td>\n      <td>146</td>\n      <td>0.306</td>\n    </tr>\n    <tr>\n      <th>19</th>\n      <td>김하성</td>\n      <td>533</td>\n      <td>163</td>\n      <td>0.306</td>\n    </tr>\n    <tr>\n      <th>20</th>\n      <td>김상수</td>\n      <td>404</td>\n      <td>123</td>\n      <td>0.304</td>\n    </tr>\n    <tr>\n      <th>21</th>\n      <td>박건우</td>\n      <td>487</td>\n      <td>148</td>\n      <td>0.304</td>\n    </tr>\n    <tr>\n      <th>22</th>\n      <td>오지환</td>\n      <td>527</td>\n      <td>158</td>\n      <td>0.300</td>\n    </tr>\n    <tr>\n      <th>23</th>\n      <td>정수빈</td>\n      <td>490</td>\n      <td>146</td>\n      <td>0.298</td>\n    </tr>\n    <tr>\n      <th>24</th>\n      <td>조용호</td>\n      <td>409</td>\n      <td>121</td>\n      <td>0.296</td>\n    </tr>\n    <tr>\n      <th>25</th>\n      <td>정훈</td>\n      <td>410</td>\n      <td>121</td>\n      <td>0.295</td>\n    </tr>\n    <tr>\n      <th>26</th>\n      <td>채은성</td>\n      <td>416</td>\n      <td>122</td>\n      <td>0.293</td>\n    </tr>\n    <tr>\n      <th>27</th>\n      <td>이대호</td>\n      <td>542</td>\n      <td>158</td>\n      <td>0.292</td>\n    </tr>\n    <tr>\n      <th>28</th>\n      <td>나지완</td>\n      <td>468</td>\n      <td>136</td>\n      <td>0.291</td>\n    </tr>\n    <tr>\n      <th>29</th>\n      <td>박해민</td>\n      <td>489</td>\n      <td>142</td>\n      <td>0.290</td>\n    </tr>\n  </tbody>\n</table>\n</div>"
     },
     "metadata": {},
     "execution_count": 126
    }
   ],
   "source": [
    "import pandas as pd\n",
    "\n",
    "df = pd.read_csv('./Player_records.csv')\n",
    "\n",
    "df"
   ]
  },
  {
   "source": [],
   "cell_type": "markdown",
   "metadata": {}
  },
  {
   "source": [
    "# FIFA Ranking "
   ],
   "cell_type": "markdown",
   "metadata": {}
  },
  {
   "cell_type": "code",
   "execution_count": 229,
   "metadata": {
    "tags": []
   },
   "outputs": [],
   "source": [
    "import pandas as pd\n",
    "import requests\n",
    "from bs4 import BeautifulSoup\n",
    "\n",
    "fifa_rank = 'https://www.fifa.com/fifa-world-ranking/ranking-table/men/'\n",
    "req = requests.get(fifa_rank)\n",
    "html = req.content\n",
    "soup = BeautifulSoup(html, 'html.parser')\n",
    "ranking_table = soup.find('tbody')\n",
    "ranking_row = ranking_table.find_all('tr')\n",
    "\n",
    "row_data = []\n",
    "\n",
    "#print(ranking_row)\n",
    "for i in ranking_row:\n",
    "    row_data.append(i.text.split())\n",
    "#print(row_data)\n",
    "\n",
    "for i in range(len(row_data)):\n",
    "    if len(row_data[i]) == 8:\n",
    "        row_data[i][1] = row_data[i][1]+' '+row_data[i][2]\n",
    "        del row_data[i][2]1]+' '+row_data[i][2]\n",
    "        del row_data[i][2]\n",
    "    elif len(row_data[i]) == 9:\n",
    "        row_data[i][1] = row_data[i][1]+' '+row_data[i][2]+' '+row_data[i][3]\n",
    "        del row_data[i][2]\n",
    "        del row_data[i][2]\n",
    "    elif len(row_data[i]) == 10:\n",
    "        row_data[i][1] = row_data[i][1]+' '+row_data[i][2]+' '+row_data[i][3]+' '+row_data[i][4]\n",
    "        del row_data[i][2]\n",
    "        del row_data[i][2]\n",
    "        del row_data[i][2]\n",
    "    elif len(row_data[i]) == 11:\n",
    "        row_data[i][1] = row_data[i][1]+' '+row_data[i][2]+' '+row_data[i][3]+' '+row_data[i][4]+' '+row_data[i][5]\n",
    "        del row_data[i][2]\n",
    "        del row_data[i][2]\n",
    "        del row_data[i][2]\n",
    "        del row_data[i][2]\n",
    "\n",
    "df = pd.DataFrame(row_data , columns = ['RNK','TEAM','TEAM_INITIAL','TOTAL_POINT','PREVIOUS_POINT','+/-','POSITION'])\n",
    "df.to_csv('FIFA_Ranking.csv', index=False)"
   ]
  },
  {
   "source": [],
   "cell_type": "markdown",
   "metadata": {}
  },
  {
   "cell_type": "code",
   "execution_count": 7,
   "metadata": {
    "tags": [
     "outputPrepend"
    ]
   },
   "outputs": [
    {
     "output_type": "stream",
     "name": "stdout",
     "text": [
      "memberNo=32578972\" target=\"_blank\">\n<em class=\"theme_category\"> 게임</em>\n<strong class=\"title elss\">울트라비스트 7대죄악설</strong>\n<p class=\"desc\">울트라비스트는 7세대에서 처음 등장한 괴상한 포켓몬입니다. 다른 차원에서 넘어온 이 생명체들은 우리의 상식을 아득히 벗어나는 디자인을 하고 있는데요. 그런데 이 울트라비스트의 모티브가 가톨릭의 7대 죄악에서 따왔다는 이야기가 있습니다. 오늘은 울트라비스트 7대죄악 설을 한번 알아보도록 하겠습니다.칠대죄악은 가톨릭에서 규정한 7가지 근원적인 죄입니다. 그 종</p>\n<div class=\"source_box\">\n<span class=\"date\">4일 전</span>\n<span class=\"source\"><span class=\"source_inner\">고북손</span></span>\n</div>\n</a>\n</li>\n<li class=\"theme_item\" data-da-position=\"true\" data-gdid=\"CAS_a0c0cb1c-4331-11eb-a953-41d1460826ac\">\n<a class=\"theme_thumb\" data-clk=\"tcc_gam.list10cont3\" href=\"https://post.naver.com/viewer/postView.nhn?volumeNo=30259063&amp;memberNo=28045346\" target=\"_blank\">\n<img alt=\"2021 LCK 스토브리그 정리\" data-src=\"https://s.pstatic.net/dthumb.phinf/?src=%22https%3A%2F%2Fs.pstatic.net%2Fstatic%2Fwww%2Fmobile%2Fedit%2F2020%2F1222%2Fupload_24536002951665451lg8vw.jpg%22&amp;type=nf340_228\" height=\"114\" width=\"170\"/>\n<span class=\"thumb_bd\"></span>\n</a>\n<a class=\"theme_info\" data-clk=\"tcc_gam.list10cont3\" href=\"https://post.naver.com/viewer/postView.nhn?volumeNo=30259063&amp;memberNo=28045346\" target=\"_blank\">\n<em class=\"theme_category\"> 게임</em>\n<strong class=\"title elss\">2021 LCK 스토브리그 정리</strong>\n<p class=\"desc\">승강전 폐지로 인해서인지 베테랑보다는 신인을 더 선호하는 스토브리그였습니다. 그리고 작업하는 중 자꾸 팀들이 개편돼서 (SB → LSB / DYN → NS / FB 약칭은 임시로 제가 만듦) 수정하느라 애먹기도 했네요. + 작업을 마친 이후 DRX는 쏭을 영입해 감독 대행 체재, NS도 바텀에 유망주 웨인을 영입했습니다. 일</p>\n<div class=\"source_box\">\n<span class=\"date\">1주일 전</span>\n<span class=\"source\"><span class=\"source_inner\">RedHorN</span></span>\n</div>\n</a>\n</li>\n<li class=\"theme_item\" data-da-position=\"true\" data-gdid=\"CAS_a0c0cb18-4331-11eb-a953-990f6ebb24e2\">\n<a class=\"theme_thumb\" data-clk=\"tcc_gam.list10cont4\" href=\"https://post.naver.com/viewer/postView.nhn?volumeNo=30253346&amp;memberNo=25541552\" target=\"_blank\">\n<img alt=\"147화. 채팅을 읽지 않는 사람들.\" data-src=\"https://s.pstatic.net/dthumb.phinf/?src=%22https%3A%2F%2Fs.pstatic.net%2Fstatic%2Fwww%2Fmobile%2Fedit%2F2020%2F1222%2Fupload_24535583707852574XuGdG.JPG%22&amp;type=nf340_228\" height=\"114\" width=\"170\"/>\n<span class=\"thumb_bd\"></span>\n</a>\n<a class=\"theme_info\" data-clk=\"tcc_gam.list10cont4\" href=\"https://post.naver.com/viewer/postView.nhn?volumeNo=30253346&amp;memberNo=25541552\" target=\"_blank\">\n<em class=\"theme_category\"> 게임</em>\n<strong class=\"title elss\">147화. 채팅을 읽지 않는 사람들.</strong>\n<p class=\"desc\">글 : 두발로걷는개 / 그림 : 기기맨 레이드에서도 가끔 채팅창을 안보시도 불러도 답을 안하시는 분이 계신데. 던전에서는 꽤 자주 보입니다. 특히 블러드 / 영웅심 안키시는 분들이 정말 많은데 그것 보다 닥돌을 한다거나, 공략을 안지킨다거나 등등.. 그런데 불러도 답장을 전혀 하질 않습니다. 채팅이 아예 안보이진 않을텐데... 뭔가 게임이 제대로 풀리진 않</p>\n<div class=\"source_box\">\n<span class=\"date\">4일 전</span>\n<span class=\"source\"><span class=\"source_inner\">두발로걷는개</span></span>\n</div>\n</a>\n</li>\n<li class=\"theme_item\" data-da-position=\"true\" data-gdid=\"CAS_ca29bf25-436a-11eb-a953-4932830856bf\">\n<a class=\"theme_thumb\" data-clk=\"tcc_gam.list10cont5\" href=\"https://post.naver.com/viewer/postView.nhn?volumeNo=30276894&amp;memberNo=19217732&amp;navigationType=push\" target=\"_blank\">\n<img alt=\"더 많은 컨텐츠 선보인 '그랑사가' 파이널 CBT\" data-src=\"https://s.pstatic.net/dthumb.phinf/?src=%22https%3A%2F%2Fs.pstatic.net%2Fstatic%2Fwww%2Fmobile%2Fedit%2F2020%2F1222%2Fupload_24559869869245289w8Efd.jpg%22&amp;type=nf340_228\" height=\"114\" width=\"170\"/>\n<span class=\"thumb_bd\"></span>\n</a>\n<a class=\"theme_info\" data-clk=\"tcc_gam.list10cont5\" href=\"https://post.naver.com/viewer/postView.nhn?volumeNo=30276894&amp;memberNo=19217732&amp;navigationType=push\" target=\"_blank\">\n<em class=\"theme_category\"> 게임</em>\n<strong class=\"title elss\">더 많은 컨텐츠 선보인 '그랑사가' 파이널 CBT</strong>\n<p class=\"desc\">지난 17일부터 시작된 엔픽셀의 모바일 MMORPG '그랑사가'의 파이널 CBT가 마지막날을 맞이했다. 17일부터 21일까지 5일간 진행된 파이널 CBT는 지난 1차 CBT의 피드백을 반영하고 지난 테스트에서 발전해 미로 같은 공간을 탐색하며 전투하는 무한의 서고, 기사단의 힘을 모아 강력한 보스를 처치하는 강림전 등의 새로운 컨텐츠와 메인 퀘스트를 제공했</p>\n<div class=\"source_box\">\n<span class=\"date\">4일 전</span>\n<span class=\"source\"><span class=\"source_inner\">게임샷</span></span>\n</div>\n</a>\n</li>\n</ul>\n</div>\n</div>\n<div class=\"group_theme\" data-block-code=\"PC-THEME-GAMEAPP-MOBILE-RANKING-DEFAULT-10\" data-block-id=\"\" data-block-type=\"MATERIALS\" data-da=\"container\" data-index=\"\" data-page=\"6\" data-template-code=\"MOBILE-RANKING-LIST\" style=\"display:none\">\n<div class=\"list_theme_wrap\">\n<ul class=\"list_theme\">\n<li class=\"theme_item\" data-da-position=\"true\" data-gdid=\"CAS_a0c0cb19-4331-11eb-a953-f7fde3143301\">\n<a class=\"theme_thumb\" data-clk=\"tcc_gam.list11cont1\" href=\"https://post.naver.com/viewer/postView.nhn?volumeNo=30249693&amp;memberNo=1523821\" target=\"_blank\">\n<img alt=\"군침이 싹 돈다 - 게임 속 맛보고 싶은 음식\" data-src=\"https://s.pstatic.net/dthumb.phinf/?src=%22https%3A%2F%2Fs.pstatic.net%2Fstatic%2Fwww%2Fmobile%2Fedit%2F2020%2F1222%2Fupload_24535672972276869ggCZE.jpg%22&amp;type=nf340_228\" height=\"114\" width=\"170\"/>\n<span class=\"thumb_bd\"></span>\n</a>\n<a class=\"theme_info\" data-clk=\"tcc_gam.list11cont1\" href=\"https://post.naver.com/viewer/postView.nhn?volumeNo=30249693&amp;memberNo=1523821\" target=\"_blank\">\n<em class=\"theme_category\"> 게임</em>\n<strong class=\"title elss\">군침이 싹 돈다 - 게임 속 맛보고 싶은 음식</strong>\n<p class=\"desc\">게임 속의 먹거리는 단골처럼 화제가 되는 소재 같습니다. 맛있는 음식을 싫어하는 사람은 없을 것이기도 하겠지만, 게임의 그래픽 수준이 발전하면서 게임 내 인물들이 먹는 음식들의 모습도 먹음직스럽게 변화하고 있습니다. 게임에 음식이 등장하게 된 배경은 보너스 점수 라거나 캐릭터의 능력치 향상과 같은 현실적인 이유였지만, 이제는 현실의 음식보다 더 맛있어 보이</p>\n<div class=\"source_box\">\n<span class=\"date\">1주일 전</span>\n<span class=\"source\"><span class=\"source_inner\">이스러지</span></span>\n</div>\n</a>\n</li>\n<li class=\"theme_item\" data-da-position=\"true\" data-gdid=\"CAS_a0c0cb1e-4331-11eb-a953-f54e0e7c45f1\">\n<a class=\"theme_thumb\" data-clk=\"tcc_gam.list11cont2\" href=\"https://post.naver.com/viewer/postView.nhn?volumeNo=30253535&amp;memberNo=11415974\" target=\"_blank\">\n<img alt=\"해적과 갱스터의 어쌔신 크리드, 어쌔신 크리드 블랙 플래그&amp;신디케이트\" data-src=\"https://s.pstatic.net/dthumb.phinf/?src=%22https%3A%2F%2Fs.pstatic.net%2Fstatic%2Fwww%2Fmobile%2Fedit%2F2020%2F1222%2Fupload_24536071495940539hJb1Y.jpg%22&amp;type=nf340_228\" height=\"114\" width=\"170\"/>\n<span class=\"thumb_bd\"></span>\n</a>\n<a class=\"theme_info\" data-clk=\"tcc_gam.list11cont2\" href=\"https://post.naver.com/viewer/postView.nhn?volumeNo=30253535&amp;memberNo=11415974\" target=\"_blank\">\n<em class=\"theme_category\"> 게임</em>\n<strong class=\"title elss\">해적과 갱스터의 어쌔신 크리드, 어쌔신 크리드 블랙 플래그&amp;신디케이트</strong>\n<p class=\"desc\">12편의 어쌔신 크리드 중 오디세이를 제외하고 어쌔신 크리드 2를 제외하고 가장 재미있었던 작품 두 개를 뽑는다면 전 어쌔신 크리드 4 블랙 플래그와 어쌔신 크리드 신디케이트를 뽑습니다. 두 작품은 유니티 전후로 나온 시리즈라는 특징이 있는데요 여기서는 두 작품의 특징에 대해서 간단하게 이야기해보겠습니다.어쌔신 크리드 4 블랙 플래그어쌔신 크리드 4 블랙 </p>\n<div class=\"source_box\">\n<span class=\"date\">1주일 전</span>\n<span class=\"source\"><span class=\"source_inner\">정어리</span></span>\n</div>\n</a>\n</li>\n<li class=\"theme_item\" data-da-position=\"true\" data-gdid=\"CAS_ca29bf23-436a-11eb-a953-c1f8075ebb99\">\n<a class=\"theme_thumb\" data-clk=\"tcc_gam.list11cont3\" href=\"https://post.naver.com/viewer/postView.nhn?volumeNo=30276187&amp;memberNo=34059480&amp;navigationType=push\" target=\"_blank\">\n<img alt=\"콜 오브 듀티 모바일, 25일 중국 출시.. 서비스는 텐센트\" data-src=\"https://s.pstatic.net/dthumb.phinf/?src=%22https%3A%2F%2Fs.pstatic.net%2Fstatic%2Fwww%2Fmobile%2Fedit%2F2020%2F1222%2Fupload_24559883520241875Hakeo.jpg%22&amp;type=nf340_228\" height=\"114\" width=\"170\"/>\n<span class=\"thumb_bd\"></span>\n</a>\n<a class=\"theme_info\" data-clk=\"tcc_gam.list11cont3\" href=\"https://post.naver.com/viewer/postView.nhn?volumeNo=30276187&amp;memberNo=34059480&amp;navigationType=push\" target=\"_blank\">\n<em class=\"theme_category\"> 게임</em>\n<strong class=\"title elss\">콜 오브 듀티 모바일, 25일 중국 출시.. 서비스는 텐센트</strong>\n<p class=\"desc\">‘콜 오브 듀티: 모바일’이 25일 중국에 출시된다. 지난 8월에 외자 판호를 발급 받은 지 4개월 만이다. 중국 서비스 업체는 텐센트다. ‘콜 오브 듀티: 모바일’(중국명 使命召唤手游)은 액티비전와 텐센트가 함께 선보이는 모바일 총싸움 게임이다. 액티비전의 ‘콜 오브 듀티’ 시</p>\n<div class=\"source_box\">\n<span class=\"date\">4일 전</span>\n<span class=\"source\"><span class=\"source_inner\">GAMEVU</span></span>\n</div>\n</a>\n</li>\n<li class=\"theme_item\" data-da-position=\"true\" data-gdid=\"CAS_9c2ddafa-4369-11eb-a2b1-d1d65e2c55c2\">\n<a class=\"theme_thumb\" data-clk=\"tcc_gam.list11cont4\" href=\"https://post.naver.com/viewer/postView.nhn?volumeNo=30265779&amp;memberNo=26230660&amp;navigationType=push\" target=\"_blank\">\n<img alt=\"WWF 슈퍼스타즈, 프로레슬링 선수가 되어 본 스포츠 게임\" data-src=\"https://s.pstatic.net/dthumb.phinf/?src=%22https%3A%2F%2Fs.pstatic.net%2Fstatic%2Fwww%2Fmobile%2Fedit%2F2020%2F1222%2Fupload_245593539359241461D7nb.jpg%22&amp;type=nf340_228\" height=\"114\" width=\"170\"/>\n<span class=\"thumb_bd\"></span>\n</a>\n<a class=\"theme_info\" data-clk=\"tcc_gam.list11cont4\" href=\"https://post.naver.com/viewer/postView.nhn?volumeNo=30265779&amp;memberNo=26230660&amp;navigationType=push\" target=\"_blank\">\n<em class=\"theme_category\"> 게임</em>\n<strong class=\"title elss\">WWF 슈퍼스타즈, 프로레슬링 선수가 되어 본 스포츠 게임</strong>\n<p class=\"desc\">안녕하세요? Dante38 포스트를 방문해 주신 분들 정말 감사드립니다. 지난 시간에는 카리스마 넘치는 캐릭터들이 등장하여 각종 무기들을 가지고 적들과 맞서 싸웠던 게임에 대해서 살펴보았습니다. 어린 시절 이 게임을 플레이할 때 로봇에 탑승하게 되면 왠지 모를 안정감에 휩싸여 가끔 이용하기도 했지만 별 도움이 안 되어 아쉬움을 뒤로한 채 전투에 임했던 기억</p>\n<div class=\"source_box\">\n<span class=\"date\">4일 전</span>\n<span class=\"source\"><span class=\"source_inner\">Dante38</span></span>\n</div>\n</a>\n</li>\n<li class=\"theme_item\" data-da-position=\"true\" data-gdid=\"CAS_a0c0cb1d-4331-11eb-a953-b77abbaf46b9\">\n<a class=\"theme_thumb\" data-clk=\"tcc_gam.list11cont5\" href=\"https://post.naver.com/viewer/postView.nhn?volumeNo=29817185&amp;memberNo=40601392\" target=\"_blank\">\n<img alt=\"귀여운 알파카와 축구를?!&lt;알파카 축구 올스타&gt;\" data-src=\"https://s.pstatic.net/dthumb.phinf/?src=%22https%3A%2F%2Fs.pstatic.net%2Fstatic%2Fwww%2Fmobile%2Fedit%2F2020%2F1222%2Fupload_24536059962772299jyuhz.jpg%22&amp;type=nf340_228\" height=\"114\" width=\"170\"/>\n<span class=\"thumb_bd\"></span>\n</a>\n<a class=\"theme_info\" data-clk=\"tcc_gam.list11cont5\" href=\"https://post.naver.com/viewer/postView.nhn?volumeNo=29817185&amp;memberNo=40601392\" target=\"_blank\">\n<em class=\"theme_category\"> 게임</em>\n<strong class=\"title elss\">귀여운 알파카와 축구를?!&lt;알파카 축구 올스타&gt;</strong>\n<p class=\"desc\">오늘의 리뷰 게임은 바로 오스트리아 잘츠부르크에 위치한 Salt Castle Studio에서 제작한 축구 인디게임 '알파카 축구 올스타(Alpaca Ball : All stars)' 입니다. 지난 10월 15일에 스팀(PC)으로 먼저 출시하였고, 내년에 닌텐도 스위치 플랫폼으로 출시할 예정입니다. 이름에서 알 수 있듯이 TV 또</p>\n<div class=\"source_box\">\n<span class=\"date\">1개월 전</span>\n<span class=\"source\"><span class=\"source_inner\">인디커넥트</span></span>\n</div>\n</a>\n</li>\n</ul>\n</div>\n</div>\n<div class=\"group_theme\" data-block-code=\"PC-THEME-GAMEAPP-MOBILE-RANKING-DEFAULT-11\" data-block-id=\"\" data-block-type=\"MATERIALS\" data-da=\"container\" data-index=\"\" data-page=\"6\" data-template-code=\"MOBILE-RANKING-LIST\" style=\"display:none\">\n<div class=\"list_theme_wrap\">\n<ul class=\"list_theme\">\n<li class=\"theme_item\" data-da-position=\"true\" data-gdid=\"CAS_9c2ddafc-4369-11eb-a2b1-9d9602778f15\">\n<a class=\"theme_thumb\" data-clk=\"tcc_gam.list12cont1\" href=\"https://post.naver.com/viewer/postView.nhn?volumeNo=30270175&amp;memberNo=4704108&amp;navigationType=push\" target=\"_blank\">\n<img alt=\"광주e스포츠경기장 간단 리뷰\" data-src=\"https://s.pstatic.net/dthumb.phinf/?src=%22https%3A%2F%2Fs.pstatic.net%2Fstatic%2Fwww%2Fmobile%2Fedit%2F2020%2F1222%2Fupload_24559678970731130pNfBZ.jpg%22&amp;type=nf340_228\" height=\"114\" width=\"170\"/>\n<span class=\"thumb_bd\"></span>\n</a>\n<a class=\"theme_info\" data-clk=\"tcc_gam.list12cont1\" href=\"https://post.naver.com/viewer/postView.nhn?volumeNo=30270175&amp;memberNo=4704108&amp;navigationType=push\" target=\"_blank\">\n<em class=\"theme_category\"> 게임</em>\n<strong class=\"title elss\">광주e스포츠경기장 간단 리뷰</strong>\n<p class=\"desc\">반갑습니다. Periodista 입니다. 개인적으로 2021년에 개관을 할 것으로 예상했던 광주 e스포츠 경기장이 2020년 12월 19일에 개관식을 진행했습니다. 비록, 개인적으로 팬데믹의 여파로 부산 e스포츠 경기장 투어도 미루고 있는 상황이라 광주 e스포츠 경기장은 못 갔지만 개관식을 통해서 봤던 전경과 위치를 기반으로 간단하게 리뷰를 하겠습니다. 광</p>\n<div class=\"source_box\">\n<span class=\"date\">4일 전</span>\n<span class=\"source\"><span class=\"source_inner\">Periodista</span></span>\n</div>\n</a>\n</li>\n<li class=\"theme_item\" data-da-position=\"true\" data-gdid=\"CAS_9c2ddafb-4369-11eb-a2b1-21d24cca57f5\">\n<a class=\"theme_thumb\" data-clk=\"tcc_gam.list12cont2\" href=\"https://post.naver.com/viewer/postView.nhn?volumeNo=30272402&amp;memberNo=23461945&amp;navigationType=push\" target=\"_blank\">\n<img alt=\"Wattam - 인생이란 먹고, 싸고, 웃는 것\" data-src=\"https://s.pstatic.net/dthumb.phinf/?src=%22https%3A%2F%2Fs.pstatic.net%2Fstatic%2Fwww%2Fmobile%2Fedit%2F2020%2F1222%2Fupload_24559558154830328AIoeY.jpg%22&amp;type=nf340_228\" height=\"114\" width=\"170\"/>\n<span class=\"thumb_bd\"></span>\n</a>\n<a class=\"theme_info\" data-clk=\"tcc_gam.list12cont2\" href=\"https://post.naver.com/viewer/postView.nhn?volumeNo=30272402&amp;memberNo=23461945&amp;navigationType=push\" target=\"_blank\">\n<em class=\"theme_category\"> 게임</em>\n<strong class=\"title elss\">Wattam - 인생이란 먹고, 싸고, 웃는 것</strong>\n<p class=\"desc\">타이틀명 : Wattam 출시일 : 2019.12.07(PS4), 2020.12.19(steam) 개발 : Funomena 플레이한 플랫폼 : PC(steam) 공식 한국어화 '타카하시 케이타'는 수많은 게임 개발자 중에서도 유난히 눈에 띄는 족적을 남긴 인물이다. 대표작인 '괴혼'을 통해 보여준 그의 난해한 작품</p>\n<div class=\"source_box\">\n<span class=\"date\">4일 전</span>\n<span class=\"source\"><span class=\"source_inner\">시프리스트</span></span>\n</div>\n</a>\n</li>\n<li class=\"theme_item\" data-da-position=\"true\" data-gdid=\"CAS_b0bc5146-4107-11eb-a953-1f0cac4abbac\">\n<a class=\"theme_thumb\" data-clk=\"tcc_gam.list12cont3\" href=\"https://post.naver.com/viewer/postView.nhn?volumeNo=30258527&amp;memberNo=11710666&amp;navigationType=push\" target=\"_blank\">\n<img alt='\"플레이로 믿음을 주겠다.\" 디아블로 이모탈 개발자 인터뷰' data-src=\"https://s.pstatic.net/dthumb.phinf/?src=%22https%3A%2F%2Fs.pstatic.net%2Fstatic%2Fwww%2Fmobile%2Fedit%2F2020%2F1219%2Fupload_24297847454698520Cu9hR.jpg%22&amp;type=nf340_228\" height=\"114\" width=\"170\"/>\n<span class=\"thumb_bd\"></span>\n</a>\n<a class=\"theme_info\" data-clk=\"tcc_gam.list12cont3\" href=\"https://post.naver.com/viewer/postView.nhn?volumeNo=30258527&amp;memberNo=11710666&amp;navigationType=push\" target=\"_blank\">\n<em class=\"theme_category\"> 게임</em>\n<strong class=\"title elss\">\"플레이로 믿음을 주겠다.\" 디아블로 이모탈 개발자 인터뷰</strong>\n<p class=\"desc\">블리자드엔터테인먼트는 넷이즈와 공동 개발 중인 모바일 액션 RPG '디아블로 이모탈'의 테크니컬 알파를 시작한다. 이번 테스트는 오스트레일리아를 중심으로 제한된 인원을 대상으로 진행되며, 야만용사, 마법사, 수도사, 악마사냥꾼의 4개 직업, 7개 지역과 6개 던전, 반복 던전인 '고대 균열'과 '도전 균열', 소규모 퀘스트 '현상금 사냥', 새로운 정복자 </p>\n<div class=\"source_box\">\n<span class=\"date\">1주일 전</span>\n<span class=\"source\"><span class=\"source_inner\">게임어바웃</span></span>\n</div>\n</a>\n</li>\n<li class=\"theme_item\" data-da-position=\"true\" data-gdid=\"CAS_b3105383-4107-11eb-a2b1-6b0d0cda34b2\">\n<a class=\"theme_thumb\" data-clk=\"tcc_gam.list12cont4\" href=\"https://post.naver.com/viewer/postView.nhn?volumeNo=30247909\" target=\"_blank\">\n<img alt=\"한국어 증발에 업그레이드 불가까지? 도 넘은 소비자 기만\" data-src=\"https://s.pstatic.net/dthumb.phinf/?src=%22https%3A%2F%2Fs.pstatic.net%2Fstatic%2Fwww%2Fmobile%2Fedit%2F2020%2F1219%2Fupload_24298833421106570Fk6Nd.jpg%22&amp;type=nf340_228\" height=\"114\" width=\"170\"/>\n<span class=\"thumb_bd\"></span>\n</a>\n<a class=\"theme_info\" data-clk=\"tcc_gam.list12cont4\" href=\"https://post.naver.com/viewer/postView.nhn?volumeNo=30247909\" target=\"_blank\">\n<em class=\"theme_category\"> 게임</em>\n<strong class=\"title elss\">한국어 증발에 업그레이드 불가까지? 도 넘은 소비자 기만</strong>\n<p class=\"desc\">2020년 최고 기대작으로 손꼽혔던 '사이버펑크 2077'이 출시됐습니다. 그러나 기대와는 다른 낮은 퀄리티로 이용자들에게 실망을 안겨주고 있습니다. 이에 개발사인 'CD 프로젝트 레드(이하 CDRP)'는 사과문과 함께 환불을 진행하겠다고 밝혔지만, 유통사인 소니와 마이크로소프트의 협의가 없었다는 사실이 알려져 논란이 되고 있습니다. 유통사와</p>\n<div class=\"source_box\">\n<span class=\"date\">1주일 전</span>\n<span class=\"source\"><span class=\"source_inner\">게임조선</span></span>\n</div>\n</a>\n</li>\n<li class=\"theme_item\" data-da-position=\"true\" data-gdid=\"CAS_b0bc5144-4107-11eb-a953-a990b882c664\">\n<a class=\"theme_thumb\" data-clk=\"tcc_gam.list12cont5\" href=\"https://post.naver.com/viewer/postView.nhn?volumeNo=30259900&amp;memberNo=11255530&amp;navigationType=push\" target=\"_blank\">\n<img alt=\"'유저 방해 요소 추가' 배틀그라운드 시즌10, 무엇이 달라졌나?\" data-src=\"https://s.pstatic.net/dthumb.phinf/?src=%22https%3A%2F%2Fs.pstatic.net%2Fstatic%2Fwww%2Fmobile%2Fedit%2F2020%2F1219%2Fupload_24297821158375688wmqt5.jpg%22&amp;type=nf340_228\" height=\"114\" width=\"170\"/>\n<span class=\"thumb_bd\"></span>\n</a>\n<a class=\"theme_info\" data-clk=\"tcc_gam.list12cont5\" href=\"https://post.naver.com/viewer/postView.nhn?volumeNo=30259900&amp;memberNo=11255530&amp;navigationType=push\" target=\"_blank\">\n<em class=\"theme_category\"> 게임</em>\n<strong class=\"title elss\">'유저 방해 요소 추가' 배틀그라운드 시즌10, 무엇이 달라졌나?</strong>\n<p class=\"desc\">배틀그라운드의 10번째 시즌이 시작됐다. 새로운 시즌을 맞이한 배틀그라운드는 신규 전장 헤이븐(Haven)과 헤이븐에만 등장하는 새로운 요소 필라, 서바이버 패스 시즌10: 돌파, 경쟁전, 매치메이킹 변경, 의상 프리셋 기능 추가 등을 업데이트했다. &lt;신규 전장 헤이븐&gt; 신규 전장은 헤이븐(Haven)이다. 북아메리카</p>\n<div class=\"source_box\">\n<span class=\"date\">6일 전</span>\n<span class=\"source\"><span class=\"source_inner\">게임인사이트</span></span>\n</div>\n</a>\n</li>\n</ul>\n</div>\n</div>\n<div class=\"btn_more_wrap\">\n<button class=\"btn_more\" data-clk-custom=\"tcc_gam.more\" data-next-page=\"2\" type=\"button\"><i class=\"ico_more\"></i>새로운 글 더보기</button>\n</div>\n</div>\n</div>\n</div> </div> <div class=\"column_right\" id=\"NM_INT_RIGHT\"> <div class=\"column_fix_wrap\"> <div id=\"da_brand\"></div>\n<div class=\"sc_login\" id=\"account\">\n<h2 class=\"blind\">Sign in</h2>\n<p class=\"login_msg\">Connect with people</p>\n<a class=\"link_login\" data-clk=\"log_off.login\" href=\"https://nid.naver.com/nidlogin.login?mode=form&amp;url=https%3A%2F%2Fwww.naver.com\"><i class=\"ico_naver\"><span class=\"blind\">NAVER</span></i>Sign in</a>\n<div class=\"sub_area\">\n<div class=\"look_box\">\n<a class=\"link_look\" data-clk=\"log_off.searchid\" href=\"https://nid.naver.com/user/help.nhn?todo=idinquiry\">Forgot Username</a>\n<a class=\"link_look\" data-clk=\"log_off.searchpass\" href=\"https://nid.naver.com/nidreminder.form\">Password</a>\n</div>\n<a class=\"link_join\" data-clk=\"log_off.registration\" href=\"https://nid.naver.com/nidregister.form?url=https%3A%2F%2Fwww.naver.com\">Sign up</a>\n</div>\n</div>\n<div class=\"sc_timesquare\" id=\"timesquare\"> <h2 class=\"blind\">타임스퀘어</h2> <div class=\"card_wrap\">\n<div class=\"card_nav\">\n<a class=\"btn_nav btn_prev\" data-clk=\"squ.pre\" href=\"#\" role=\"button\"><span class=\"blind\">이전</span></a>\n<a class=\"btn_nav btn_next\" data-clk=\"squ.next\" href=\"#\" role=\"button\"><span class=\"blind\">다음</span></a>\n</div>\n<div id=\"NM_TS_ROLLING_WRAP\" style=\"height: 100%;\">\n<div>\n<a class=\"card_news\" data-clk=\"squ.line3\" href=\"https://search.naver.com/search.naver?sm=top_hty&amp;fbm=0&amp;ie=utf8&amp;query=%EC%BD%94%EB%A1%9C%EB%82%9819\"><i class=\"news_badge\">이슈</i><span class=\"news\">코로나바이러스감염증19 현황</span></a>\n</div>\n<div>\n<a class=\"card_weather ico_w01\" data-clk=\"squ.weat\" href=\"https://weather.naver.com/today/02463112\">\n<div class=\"current_box\">\n<strong aria-label=\"현재기온\" class=\"current\">3.0°</strong><strong class=\"state\">맑음</strong>\n</div>\n<div class=\"degree_box\">\n<span aria-label=\"최저기온\" class=\"min\">-6.0°</span><span aria-label=\"최고기온\" class=\"max\">3.0°</span>\n</div>\n<span class=\"location\">언남동</span>\n</a>\n</div>\n<div>\n<a class=\"card_air\" data-clk=\"squ.dust\" href=\"https://weather.naver.com/today/02463112\">\n<ul class=\"list_air\">\n<li class=\"air_item\">미세<strong class=\"state state_normal\">보통</strong></li>\n<li class=\"air_item\">초미세<strong class=\"state state_normal\">보통</strong></li>\n</ul>\n<span class=\"location\">언남동</span>\n</a>\n</div>\n</div>\n</div> <!-- EMPTY --> </div> <div id=\"veta_branding\"> <iframe data-iframe-src=\"https://siape.veta.naver.com/fxshow?su=SU10601&amp;nrefreshx=0\" data-veta-preview=\"main_rolling\" frameborder=\"0\" height=\"200\" id=\"da_iframe_rolling\" marginheight=\"0\" marginwidth=\"0\" name=\"da_iframe_rolling\" scrolling=\"no\" title=\"광고\" width=\"350\"></iframe> <span class=\"veta_bd_t\"></span> <span class=\"veta_bd_b\"></span> <span class=\"veta_bd_l\"></span> <span class=\"veta_bd_r\"></span> </div> <div class=\"sc_shopcast\" id=\"shopcast\"> <iframe data-iframe-src=\"https://castbox.shopping.naver.com/shoppingboxnew/main.nhn\" frameborder=\"0\" height=\"1539\" id=\"shopcast_iframe\" marginheight=\"0\" marginwidth=\"0\" scrolling=\"no\" title=\"쇼핑캐스트\" width=\"350\"></iframe> </div> </div> </div> <a class=\"content_top\" href=\"#wrap\" id=\"NM_scroll_top_btn\"><span class=\"blind\">TOP</span></a> <button aria-pressed=\"false\" class=\"btn_theme\" id=\"NM_darkmode_btn\" role=\"button\" type=\"button\"> <span class=\"blind\">라이트 모드로 보기</span> </button> </div>\n"
     ]
    }
   ],
   "source": [
    "import requests\n",
    "import re\n",
    "from bs4 import BeautifulSoup\n",
    "\n",
    "base_url = 'https://www.naver.com/'\n",
    "\n",
    "req = requests.get(base_url)\n",
    "html = req.content\n",
    "soup = BeautifulSoup(html, 'html.parser')\n",
    "data_table = soup.find('div', id='container')\n",
    "#data_sector = data_table.find('div', id='NM_RTK_VIEW')\n",
    "print(data_table)"
   ]
  },
  {
   "cell_type": "code",
   "execution_count": null,
   "metadata": {},
   "outputs": [],
   "source": []
  }
 ]
}