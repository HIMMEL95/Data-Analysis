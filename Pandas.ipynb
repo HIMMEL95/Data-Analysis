{
 "cells": [
  {
   "cell_type": "code",
   "execution_count": 5,
   "metadata": {},
   "outputs": [],
   "source": [
    "# Pandas에 대한 자세한 설명은 https://pandas.pydata.org/pandas-docs/stable/index.html"
   ]
  },
  {
   "cell_type": "code",
   "execution_count": 1,
   "metadata": {},
   "outputs": [
    {
     "output_type": "execute_result",
     "data": {
      "text/plain": [
       "     Names  Births  custom\n",
       "0      Bob     968       1\n",
       "1  Jessica     155       5\n",
       "2     Mary      77      25\n",
       "3     John     578      13\n",
       "4      Mel     973   23232"
      ],
      "text/html": "<div>\n<style scoped>\n    .dataframe tbody tr th:only-of-type {\n        vertical-align: middle;\n    }\n\n    .dataframe tbody tr th {\n        vertical-align: top;\n    }\n\n    .dataframe thead th {\n        text-align: right;\n    }\n</style>\n<table border=\"1\" class=\"dataframe\">\n  <thead>\n    <tr style=\"text-align: right;\">\n      <th></th>\n      <th>Names</th>\n      <th>Births</th>\n      <th>custom</th>\n    </tr>\n  </thead>\n  <tbody>\n    <tr>\n      <th>0</th>\n      <td>Bob</td>\n      <td>968</td>\n      <td>1</td>\n    </tr>\n    <tr>\n      <th>1</th>\n      <td>Jessica</td>\n      <td>155</td>\n      <td>5</td>\n    </tr>\n    <tr>\n      <th>2</th>\n      <td>Mary</td>\n      <td>77</td>\n      <td>25</td>\n    </tr>\n    <tr>\n      <th>3</th>\n      <td>John</td>\n      <td>578</td>\n      <td>13</td>\n    </tr>\n    <tr>\n      <th>4</th>\n      <td>Mel</td>\n      <td>973</td>\n      <td>23232</td>\n    </tr>\n  </tbody>\n</table>\n</div>"
     },
     "metadata": {},
     "execution_count": 1
    }
   ],
   "source": [
    "import pandas as pd\n",
    "\n",
    "names = ['Bob', 'Jessica', 'Mary', 'John', 'Mel']\n",
    "births = [968, 155, 77, 578, 973]\n",
    "custom = [1, 5, 25, 13, 23232]\n",
    "\n",
    "BabyDataSet = list(zip(names,births,custom))\n",
    "df = pd.DataFrame(data = BabyDataSet, columns=['Names', 'Births', 'custom'])\n",
    "\n",
    "# 데이터 프레임의 상단 부분을 출력\n",
    "df.head()"
   ]
  },
  {
   "cell_type": "code",
   "execution_count": 7,
   "metadata": {},
   "outputs": [
    {
     "output_type": "stream",
     "name": "stdout",
     "text": [
      "Names     object\nBirths     int64\ncustom     int64\ndtype: object\n------------------\nRangeIndex(start=0, stop=5, step=1)\n------------------\nIndex(['Names', 'Births', 'custom'], dtype='object')\n"
     ]
    }
   ],
   "source": [
    "# 데이터 프레임의 열 타입 정보를 출력\n",
    "print(df.dtypes)\n",
    "print('------------------')\n",
    "\n",
    "# 데이터 프레임의 형태 정보 출력\n",
    "print(df.index)\n",
    "print('------------------')\n",
    "\n",
    "# 데이터 프레임의 열 정보 출력\n",
    "print(df.columns)"
   ]
  },
  {
   "cell_type": "code",
   "execution_count": 8,
   "metadata": {},
   "outputs": [
    {
     "output_type": "execute_result",
     "data": {
      "text/plain": [
       "0        Bob\n",
       "1    Jessica\n",
       "2       Mary\n",
       "3       John\n",
       "4        Mel\n",
       "Name: Names, dtype: object"
      ]
     },
     "metadata": {},
     "execution_count": 8
    }
   ],
   "source": [
    "# 데이터 프레임의 하나의 열을 선택 출력\n",
    "df['Names']\n"
   ]
  },
  {
   "cell_type": "code",
   "execution_count": 9,
   "metadata": {},
   "outputs": [
    {
     "output_type": "execute_result",
     "data": {
      "text/plain": [
       "     Names  Births  custom\n",
       "0      Bob     968       1\n",
       "1  Jessica     155       5\n",
       "3     John     578      13\n",
       "4      Mel     973   23232"
      ],
      "text/html": "<div>\n<style scoped>\n    .dataframe tbody tr th:only-of-type {\n        vertical-align: middle;\n    }\n\n    .dataframe tbody tr th {\n        vertical-align: top;\n    }\n\n    .dataframe thead th {\n        text-align: right;\n    }\n</style>\n<table border=\"1\" class=\"dataframe\">\n  <thead>\n    <tr style=\"text-align: right;\">\n      <th></th>\n      <th>Names</th>\n      <th>Births</th>\n      <th>custom</th>\n    </tr>\n  </thead>\n  <tbody>\n    <tr>\n      <th>0</th>\n      <td>Bob</td>\n      <td>968</td>\n      <td>1</td>\n    </tr>\n    <tr>\n      <th>1</th>\n      <td>Jessica</td>\n      <td>155</td>\n      <td>5</td>\n    </tr>\n    <tr>\n      <th>3</th>\n      <td>John</td>\n      <td>578</td>\n      <td>13</td>\n    </tr>\n    <tr>\n      <th>4</th>\n      <td>Mel</td>\n      <td>973</td>\n      <td>23232</td>\n    </tr>\n  </tbody>\n</table>\n</div>"
     },
     "metadata": {},
     "execution_count": 9
    }
   ],
   "source": [
    "# Births 열이 100 보다 큰 데이터를 선책 출력\n",
    "df[df['Births'] > 100]"
   ]
  },
  {
   "cell_type": "code",
   "execution_count": 10,
   "metadata": {},
   "outputs": [
    {
     "output_type": "execute_result",
     "data": {
      "text/plain": [
       "Births     550.2\n",
       "custom    4655.2\n",
       "dtype: float64"
      ]
     },
     "metadata": {},
     "execution_count": 10
    }
   ],
   "source": [
    "# 데이터 프레임에서의 평균값을 계산\n",
    "df.mean()"
   ]
  }
 ],
 "metadata": {
  "kernelspec": {
   "display_name": "Python 3",
   "language": "python",
   "name": "python3"
  },
  "language_info": {
   "codemirror_mode": {
    "name": "ipython",
    "version": 3
   },
   "file_extension": ".py",
   "mimetype": "text/x-python",
   "name": "python",
   "nbconvert_exporter": "python",
   "pygments_lexer": "ipython3",
   "version": "3.7.4-final"
  }
 },
 "nbformat": 4,
 "nbformat_minor": 4
}