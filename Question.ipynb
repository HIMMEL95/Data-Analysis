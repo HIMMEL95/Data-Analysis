{
 "metadata": {
  "language_info": {
   "codemirror_mode": {
    "name": "ipython",
    "version": 3
   },
   "file_extension": ".py",
   "mimetype": "text/x-python",
   "name": "python",
   "nbconvert_exporter": "python",
   "pygments_lexer": "ipython3",
   "version": "3.6.9-final"
  },
  "orig_nbformat": 2,
  "kernelspec": {
   "name": "python3",
   "display_name": "Python 3",
   "language": "python"
  }
 },
 "nbformat": 4,
 "nbformat_minor": 2,
 "cells": [
  {
   "source": [
    "# 질문 내용\n"
   ],
   "cell_type": "markdown",
   "metadata": {}
  },
  {
   "cell_type": "code",
   "execution_count": 39,
   "metadata": {},
   "outputs": [],
   "source": [
    "import numpy as np\n",
    "\n",
    "np.random.seed()\n",
    "\n",
    "# 여기에 들어가게 되는 숫자는?\n"
   ]
  },
  {
   "cell_type": "code",
   "execution_count": 18,
   "metadata": {
    "tags": []
   },
   "outputs": [
    {
     "output_type": "stream",
     "name": "stdout",
     "text": [
      "None\n"
     ]
    }
   ],
   "source": [
    "import requests\n",
    "from bs4 import BeautifulSoup\n",
    "import re\n",
    "\n",
    "# 크롤링할 사이트 주소를 정의합니다.\n",
    "source_url = \"https://sports.news.naver.com/kfootball/news/index.nhn?isphoto=N\"\n",
    "\n",
    "# 사이트의 html 구조에 기반하여 크롤링을 수행합니다.\n",
    "req = requests.get(source_url)\n",
    "html = req.content\n",
    "soup = BeautifulSoup(html, 'lxml')\n",
    "contents_table = soup.find(name=\"div\", class_='news_list')\n",
    "table_body = contents_table.find(name=\"ul li\")\n",
    "#table_rows = table_body.find(name=\"li\")\n",
    "print(table_body)"
   ]
  },
  {
   "cell_type": "code",
   "execution_count": 41,
   "metadata": {},
   "outputs": [
    {
     "output_type": "stream",
     "name": "stdout",
     "text": [
      "https://namu.wiki/w/%EC%98%A4%EC%A0%95%ED%83%9C\nhttps://namu.wiki/w/%EB%A8%B9%EC%9E%A5%EC%96%B4\nhttps://namu.wiki/w/%ED%8A%B8%EB%A1%9C%ED%94%BC%EC%BB%AC%20%EB%A3%A8%EC%A6%88!%20%ED%94%84%EB%A6%AC%ED%81%90%EC%96%B4\nhttps://namu.wiki/w/%EC%96%91%EC%9D%98%EC%A7%80\nhttps://namu.wiki/w/%EC%82%AC%EB%9E%91%EB%B3%B4%EB%8B%A4%20%EA%B9%8A%EC%9D%80%20%EC%83%81%EC%B2%98\n"
     ]
    }
   ],
   "source": [
    "# a태그의 href 속성을 리스트로 추출하여, 크롤링 할 페이지 리스트를 생성합니다.\n",
    "page_url_base = \"https://namu.wiki\"\n",
    "page_urls = []\n",
    "for index in range(0, len(table_rows)):\n",
    "    first_td = table_rows[index].find_all('td')[0]\n",
    "    td_url = first_td.find_all('a')\n",
    "    if len(td_url) > 0:\n",
    "        page_url = page_url_base + td_url[0].get('href')\n",
    "        if 'png' not in page_url:\n",
    "            page_urls.append(page_url)\n",
    "\n",
    "# 중복 url을 제거합니다.\n",
    "page_urls = list(set(page_urls))\n",
    "for page in page_urls[:5]:\n",
    "    print(page)"
   ]
  },
  {
   "cell_type": "code",
   "execution_count": 49,
   "metadata": {},
   "outputs": [
    {
     "output_type": "stream",
     "name": "stdout",
     "text": [
      "오정태 \n----------------\n한국 남성 코미디언/ㅇ1976년 출생서울특별시 출신 인물대한민국의 개신교 신자\n-------------------\n이름오정태(吳貞泰)출생1976년 10월 28일 (44세), 서울특별시가족아내 식초여인 백아영[1], 장녀 오정우, 차녀 오채우종교개신교학력동신대학교 연극영화과(중퇴)데뷔연극 <택시 택시>수상2007년 MBC 방송연예대상 코미디시트콤부문 남자신인상관련 사이트미니홈피1. 개요2. 사건 및 사고2.1. 최후의 만찬 비하 사건2.2. 소녀시대 태연 구출 사건2.3. 루리웹 몽키티비 배너광고 사건3. 출연 작품대한민국의 개그맨. 동신대학교 연극영화과를 중퇴했으며, 연극 <택시택시>로 데뷔하였다. 결혼했으며 두 딸이 있다.길거리 캐스팅으로 개그맨이 된 케이스다. MBC 앞 횡단보도에 그냥 서 있었는데 MBC 국장이 와서 개그맨을 권유했다고 한다. 비공식적인 이야기로는 차 창문을 열고 명함을 주면서 내일 찾아오라고 했다고 하는 말도 있다. 개그맨 정종철의 말에 따르면 오정태가 여의도에 벚꽃놀이 구경온 걸 우연히 본 당시 예능국장이 창문너머로 합격을 외쳤다고. 본인도 이 사실을 인정했으며 지인을 만나기 위해 방송국 앞에 왔었다고 한다. 그 얼굴로 합격됐다는 오지헌조차 당시 개그맨 지망생인 변기수의 설득으로 방송 출연 후 MBC 공채 합격 경력이라는 실무진의 판단을 어느 정도는 거쳤음을 감안하면 고위급인 국장이 합격시킨 오정태의 사례는 가히 전무후무하다.정종철이나 오지헌은 자기가 오정태보다는 잘생겼다고 말한 바 있다.2017년 6월에는 \"갑질이야\"라는 풍자가요를 발표했는데 김혜연이 피처링에 참여했다. 그리고 오정태가 직접 감독이 되어 뮤직비디오도 만들었다. 허나, 김혜연이 행사의 여왕인데다 네 아이의 엄마라 바빠서인지, 오정태가 섭외된 무대에 같이 섭외된 적은 아직 없다.어머니가 오리구이 식당을 하다 큰 빚을 졌는데, 막내아들인 오정태가 집안의 가장이 되어 이후 야간업소 DJ로 나서면서 열심히 활동, 5년만에 빚을 청산하고 이후 부모님의 전셋집도 마련해 드렸다고 한다. 이러한 오정태의 스토리가 2017년 12월 송년특집으로 방영된 MBC '휴먼다큐-사람이 좋다' 편에 방송되었다.2017년, 소설가 김유정의 소설'봄봄'을 각색해서 현대화 한 독립영화 '우연히 봄'에 주연으로 캐스팅되었다.사회인 야구단에도 참여하고 있다.MBC 개그프로 개그야에서 활동하던 중, 출연 코너 '크레이지'에서 레오나르도 다 빈치의 최후의 만찬을 '쫑파티'라고 해석해서[2] 개신교 측의 거센 비판을 받았다. 오정태 본인이 개신교 신자인 만큼 의도하지는 않았겠지만 신성모독으로 해석될 여지가 많았다.2011년 4월 17일, 롯데월드 아이스 링크에서 열린 엔젤 프라이스 뮤직 페스티벌에서 <런 데빌 런>의 공연을 하고 있던 소녀시대의 무대에 한 남성이 갑자기 올라와 멤버 태연의 손을 붙잡고 무대 밖으로 끌고가는 상황이 찍힌 영상이 온라인을 통해 퍼져 충격을 주었다. 한편 이 공연에서 MC를 맡았던 오정태가 태연의 손목을 잡고 있는 남성을 저지시키는 장면도 그대로 촬영되어 그야말로 영웅으로 등극.후에 밝혀진 사실이지만, 제일 먼저 이 사고를 인지한 것은 멤버 써니였고, 써니가 제지를 하는 가운데 힘이 달려 제대로 저지가 되지 않자, 그 상황을 지켜보던 오정태가 재빨리 수습에 들어갔던 것. 이후 남성은 경호원에게 인계되었다.오정태 본인도 당시에 \"자신은 이상한 상황을 인지하고 경호원을 호출한뒤 무대에 뒤늦게 올라간 것일 뿐, 모든 공로는 써니씨에게 있다\"며 쑥스러워 했고, \"소녀시대가 위험한 상황에 처한 것을 목격한다면 누구든지 나처럼 행동했을 것\"이라고 겸손한 발언을 하여 호감이 되었다. 이후 한동안 소녀시대 팬들은 오정태의 미니홈피로 찾아가 감사글을 남기기도 했다.2013년 7월 경, 몽키 TV가 오픈하면서 루리웹을 비롯, 각종 사이트에 배너광고를 실었는데, 광고의 내용이.. 혐짤주의 묘사해보면, 오정태가 에로틱한 포즈로 입술을 카메라에 들이대는데...광고를 본 유저들이 몽키 TV를 가루가 되도록 깠다는 건 말 안 해도 알 것이다. 루리웹에서 비추를 흡수하고 싶을 때 쓰이는 소스 중 하나로 등극하기도 했다.나두야 간다조폭마누라 3동키호테바보동상이몽 금발이 너무해출동 케이캅\n"
     ]
    }
   ],
   "source": [
    "req = requests.get(page_urls[0])\n",
    "html = req.content\n",
    "soup = BeautifulSoup(html, 'html.parser')\n",
    "contents_table = soup.find('article')\n",
    "title = contents_table.find_all('h1')[0]\n",
    "category = contents_table.find_all('ul')[0]\n",
    "content_paragraphs = contents_table.find_all('div', class_='wiki-paragraph')\n",
    "content_corpus_list = []\n",
    "\n",
    "for paragraphs in content_paragraphs:\n",
    "    content_corpus_list.append(paragraphs.text)\n",
    "\n",
    "content_corpus = ''.join(content_corpus_list)\n",
    "print(title.text)\n",
    "print('----------------')\n",
    "print(category.text)\n",
    "print('-------------------')\n",
    "print(content_corpus)"
   ]
  },
  {
   "cell_type": "code",
   "execution_count": null,
   "metadata": {},
   "outputs": [],
   "source": []
  }
 ]
}